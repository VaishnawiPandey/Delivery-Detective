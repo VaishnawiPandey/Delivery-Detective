{
 "cells": [
  {
   "cell_type": "code",
   "execution_count": null,
   "id": "96c203f7",
   "metadata": {},
   "outputs": [],
   "source": [
    "from src.utils.data_loader import load_reviews, load_weather\n",
    "\n",
    "reviews = load_reviews()\n",
    "weather = load_weather()\n",
    "\n",
    "print(reviews.head())\n",
    "print(weather.head())\n",
    "\n"
   ]
  }
 ],
 "metadata": {
  "kernelspec": {
   "display_name": "venv",
   "language": "python",
   "name": "python3"
  },
  "language_info": {
   "codemirror_mode": {
    "name": "ipython",
    "version": 3
   },
   "file_extension": ".py",
   "mimetype": "text/x-python",
   "name": "python",
   "nbconvert_exporter": "python",
   "pygments_lexer": "ipython3",
   "version": "3.10.8"
  }
 },
 "nbformat": 4,
 "nbformat_minor": 5
}
